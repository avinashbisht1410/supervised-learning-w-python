{
  "nbformat": 4,
  "nbformat_minor": 0,
  "metadata": {
    "colab": {
      "provenance": [],
      "authorship_tag": "ABX9TyN4S0Oi4ccs5A+W1LHDjuxQ",
      "include_colab_link": true
    },
    "kernelspec": {
      "name": "python3",
      "display_name": "Python 3"
    },
    "language_info": {
      "name": "python"
    }
  },
  "cells": [
    {
      "cell_type": "markdown",
      "metadata": {
        "id": "view-in-github",
        "colab_type": "text"
      },
      "source": [
        "<a href=\"https://colab.research.google.com/github/avinashbisht1410/supervised-learning-w-python/blob/master/Python_Tutorial_1.ipynb\" target=\"_parent\"><img src=\"https://colab.research.google.com/assets/colab-badge.svg\" alt=\"Open In Colab\"/></a>"
      ]
    },
    {
      "cell_type": "markdown",
      "source": [
        "PYTHON TUTORIAL"
      ],
      "metadata": {
        "id": "VMrs1GNeV-jQ"
      }
    },
    {
      "cell_type": "code",
      "source": [
        "#Example 2.3\n",
        "a = 5\n",
        "b = 7\n",
        "c = a + b\n",
        "print(\"c = \" , c)\n",
        "\n",
        "d = 'x'\n",
        "e = 'y'\n",
        "print(d + e)\n",
        "\n",
        "f = \"Hello\"\n",
        "g = \"World\"\n",
        "l = f + \" \" + g\n",
        "print(l)"
      ],
      "metadata": {
        "colab": {
          "base_uri": "https://localhost:8080/"
        },
        "id": "OuXz6WHNRdJQ",
        "outputId": "39c643b9-6457-492c-a4db-96e36ec60a30"
      },
      "execution_count": 4,
      "outputs": [
        {
          "output_type": "stream",
          "name": "stdout",
          "text": [
            "c =  12\n",
            "xy\n",
            "Hello World\n"
          ]
        }
      ]
    },
    {
      "cell_type": "code",
      "source": [
        "#Example 2.4\n",
        "for i in range(5):\n",
        "    print(i)\n",
        "print(\"Finished\")"
      ],
      "metadata": {
        "colab": {
          "base_uri": "https://localhost:8080/"
        },
        "id": "T-nM5coJR12Z",
        "outputId": "7acedda6-eb4b-4a50-840e-e4431afa2cf5"
      },
      "execution_count": 5,
      "outputs": [
        {
          "output_type": "stream",
          "name": "stdout",
          "text": [
            "0\n",
            "1\n",
            "2\n",
            "3\n",
            "4\n",
            "Finished\n"
          ]
        }
      ]
    },
    {
      "cell_type": "markdown",
      "source": [
        "Example 2.5 shows a nested for loop example; again, the three print statements are at different structure levels."
      ],
      "metadata": {
        "id": "O0wQci5pSDJO"
      }
    },
    {
      "cell_type": "code",
      "source": [
        "#Example 2.5\n",
        "for i in range(5):\n",
        "    for j in range(5):\n",
        "        x = i * j\n",
        "        print(x)\n",
        "    print(\"Inner Loop Finished\")\n",
        "print(\"Outer Loop Finished\")"
      ],
      "metadata": {
        "colab": {
          "base_uri": "https://localhost:8080/"
        },
        "id": "1EyQGcu-SE6o",
        "outputId": "cf0477ff-0bd9-4a6c-83c4-f5696e4eb199"
      },
      "execution_count": 6,
      "outputs": [
        {
          "output_type": "stream",
          "name": "stdout",
          "text": [
            "0\n",
            "0\n",
            "0\n",
            "0\n",
            "0\n",
            "Inner Loop Finished\n",
            "0\n",
            "1\n",
            "2\n",
            "3\n",
            "4\n",
            "Inner Loop Finished\n",
            "0\n",
            "2\n",
            "4\n",
            "6\n",
            "8\n",
            "Inner Loop Finished\n",
            "0\n",
            "3\n",
            "6\n",
            "9\n",
            "12\n",
            "Inner Loop Finished\n",
            "0\n",
            "4\n",
            "8\n",
            "12\n",
            "16\n",
            "Inner Loop Finished\n",
            "Outer Loop Finished\n"
          ]
        }
      ]
    },
    {
      "cell_type": "markdown",
      "source": [
        "Example 2.6 shows a while loop example, which will continue as long as the test condition x < 5 is satisfied."
      ],
      "metadata": {
        "id": "Jg6zAcubSXfG"
      }
    },
    {
      "cell_type": "code",
      "source": [
        "#Example 2.6\n",
        "x = 0\n",
        "while x < 5:\n",
        "    x = x + 1\n",
        "    print(x)\n",
        "print(\"Finished\")"
      ],
      "metadata": {
        "colab": {
          "base_uri": "https://localhost:8080/"
        },
        "id": "QYP7iZwISYmR",
        "outputId": "04efb676-f6d0-4a77-bbb2-5defaa4bd80d"
      },
      "execution_count": 7,
      "outputs": [
        {
          "output_type": "stream",
          "name": "stdout",
          "text": [
            "1\n",
            "2\n",
            "3\n",
            "4\n",
            "5\n",
            "Finished\n"
          ]
        }
      ]
    },
    {
      "cell_type": "markdown",
      "source": [
        "Example 2.7 shows an if else example, which will execute different lines of the code depending on the value of x."
      ],
      "metadata": {
        "id": "1Bn3vrEMSkIe"
      }
    },
    {
      "cell_type": "code",
      "source": [
        "#Example 2.7\n",
        "x = 60\n",
        "if x>= 70:\n",
        "    print(\"Excellent\")\n",
        "elif x>= 60:\n",
        "    print(\"Good\")\n",
        "else:\n",
        "    print(\"OK\")"
      ],
      "metadata": {
        "colab": {
          "base_uri": "https://localhost:8080/"
        },
        "id": "u-KdrRozSmzu",
        "outputId": "4602e2ec-089a-4220-e038-f2dd6ad1a502"
      },
      "execution_count": 8,
      "outputs": [
        {
          "output_type": "stream",
          "name": "stdout",
          "text": [
            "Good\n"
          ]
        }
      ]
    },
    {
      "cell_type": "markdown",
      "source": [
        "Example 2.8 shows an example of a Python function, in which a function, add (x,y), is defined, and then the function is called. The function starts with the keyword def and has two input parameters, x and y. The function adds x and y together, passes the value to z, and then returns the value z."
      ],
      "metadata": {
        "id": "fmMflNEDS4Lf"
      }
    },
    {
      "cell_type": "code",
      "source": [
        "#Example 2.8\n",
        "\n",
        "def add (x,y):\n",
        "    z = x + y\n",
        "    return z\n",
        "\n",
        "t = add(30, 20)\n",
        "print(t)"
      ],
      "metadata": {
        "colab": {
          "base_uri": "https://localhost:8080/"
        },
        "id": "bhjBNOfpS5wH",
        "outputId": "27a38c30-776f-425d-ec4b-ae5c2f143845"
      },
      "execution_count": 9,
      "outputs": [
        {
          "output_type": "stream",
          "name": "stdout",
          "text": [
            "50\n"
          ]
        }
      ]
    },
    {
      "cell_type": "markdown",
      "source": [
        "Example 2.9 shows a Python example to find the maximum value in an array, also called a list. It first defines a function, called maxarray (xs), which has an array-type input parameter named xs. The function uses a for loop and an if statement to find out the maximum value. Then it creates an array and calls the function. Python uses [ and ] to refer to arrays and uses , to separate each element of the array."
      ],
      "metadata": {
        "id": "71ASS7H6TcXX"
      }
    },
    {
      "cell_type": "code",
      "source": [
        "#Example 2.9\n",
        "\n",
        "def maxarray (xs):\n",
        "    m = xs[0]\n",
        "    for x in xs:\n",
        "        if m < x:\n",
        "            m = x\n",
        "    return m\n",
        "\n",
        "data = [0,1,2,3,4,5,6,3,4]\n",
        "t = maxarray(data)\n",
        "print(t)"
      ],
      "metadata": {
        "colab": {
          "base_uri": "https://localhost:8080/"
        },
        "id": "nxnmqKoGTfEP",
        "outputId": "5e65fc93-cfe0-4ee6-fa56-8349fd673c52"
      },
      "execution_count": 12,
      "outputs": [
        {
          "output_type": "stream",
          "name": "stdout",
          "text": [
            "6\n"
          ]
        }
      ]
    },
    {
      "cell_type": "markdown",
      "source": [
        "Modify the Python program from Example 2.9 to create a function called minarray(xs) to find out the minimum value of an array."
      ],
      "metadata": {
        "id": "O1YqvU8sUXBv"
      }
    },
    {
      "cell_type": "code",
      "source": [
        "def minarray (xs):\n",
        "    m = xs[0]\n",
        "    for x in xs:\n",
        "        if m > x:\n",
        "            m = x\n",
        "    return m\n",
        "\n",
        "data = [5,4,3,0,1,2,3,4,5,6,3,4]\n",
        "t = minarray(data)\n",
        "print(t)"
      ],
      "metadata": {
        "colab": {
          "base_uri": "https://localhost:8080/"
        },
        "id": "wmDvYgeLUcp5",
        "outputId": "1ce7c857-0aca-4f09-b034-d11775ea1bc3"
      },
      "execution_count": 14,
      "outputs": [
        {
          "output_type": "stream",
          "name": "stdout",
          "text": [
            "0\n"
          ]
        }
      ]
    },
    {
      "cell_type": "markdown",
      "source": [
        "Modify the Python program from Example 2.9 to create a function called sortarray(xs) to sort the array in ascending order."
      ],
      "metadata": {
        "id": "FRS7XRVTVb0p"
      }
    },
    {
      "cell_type": "markdown",
      "source": [
        "Example 2.10 shows how to read text from the keyboard. In the print statement, a single quote (') and a double quote (\") are the same."
      ],
      "metadata": {
        "id": "DjsCH8UkVlX1"
      }
    },
    {
      "cell_type": "code",
      "source": [
        "#Example 2.10\n",
        "print('What is your name? ')\n",
        "x = input()\n",
        "print('Hello ' + x + \"!\")"
      ],
      "metadata": {
        "colab": {
          "base_uri": "https://localhost:8080/"
        },
        "id": "EABapYL9VoDp",
        "outputId": "cba8a876-61d3-4b1c-d6d2-f7e1f419c606"
      },
      "execution_count": 15,
      "outputs": [
        {
          "output_type": "stream",
          "name": "stdout",
          "text": [
            "What is your name? \n",
            "Avinash\n",
            "Hello Avinash!\n"
          ]
        }
      ]
    }
  ]
}